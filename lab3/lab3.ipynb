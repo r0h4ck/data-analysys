{
 "cells": [
  {
   "cell_type": "code",
   "execution_count": 1,
   "metadata": {
    "collapsed": true
   },
   "outputs": [],
   "source": [
    "import pandas as pd\n",
    "from sklearn.feature_extraction.text import CountVectorizer\n",
    "from sklearn.model_selection import train_test_split\n",
    "from sklearn.preprocessing import StandardScaler\n",
    "from sklearn.linear_model import LogisticRegression\n",
    "from keras.preprocessing.image import ImageDataGenerator\n",
    "from keras.models import Sequential\n",
    "from keras.layers import Conv2D, MaxPooling2D, Flatten, Dense"
   ]
  },
  {
   "cell_type": "code",
   "execution_count": 2,
   "outputs": [],
   "source": [
    "# Read data\n",
    "employee_satisfaction_data = pd.read_csv('data.csv')\n",
    "employee_satisfaction_data = employee_satisfaction_data.drop('Unnamed: 0', axis = 1)\n",
    "employee_satisfaction_data = employee_satisfaction_data.drop('location', axis = 1)\n",
    "employee_satisfaction_data = employee_satisfaction_data.drop('emp_id', axis = 1)"
   ],
   "metadata": {
    "collapsed": false
   }
  },
  {
   "cell_type": "code",
   "execution_count": 3,
   "outputs": [],
   "source": [
    "vectorizer = CountVectorizer()\n",
    "#Transform department data\n",
    "deptColumnData = employee_satisfaction_data['Dept']\n",
    "deptColumnData_encoded = vectorizer.fit_transform(deptColumnData)\n",
    "deptColumnData_encoded = deptColumnData_encoded.toarray()\n",
    "deptColumnData_encoded = [row[0] for row in deptColumnData_encoded]\n",
    "#Transfortm location\n",
    "recruitmentData = employee_satisfaction_data['recruitment_type']\n",
    "recruitmentData_encoded = vectorizer.fit_transform(recruitmentData)\n",
    "recruitmentData_encoded = recruitmentData_encoded.toarray()\n",
    "recruitmentData_encoded = [row[0] for row in recruitmentData_encoded]\n",
    "#Transfortm education\n",
    "educationData = employee_satisfaction_data['education']\n",
    "educationData_encoded = vectorizer.fit_transform(educationData)\n",
    "educationData_encoded = educationData_encoded.toarray()\n",
    "educationData_encoded = [row[0] for row in educationData_encoded]\n",
    "\n",
    "employee_satisfaction_data = employee_satisfaction_data.assign(Dept = deptColumnData_encoded)\n",
    "employee_satisfaction_data = employee_satisfaction_data.assign(recruitment_type = recruitmentData_encoded)\n",
    "employee_satisfaction_data = employee_satisfaction_data.assign(education = educationData_encoded)"
   ],
   "metadata": {
    "collapsed": false
   }
  },
  {
   "cell_type": "code",
   "execution_count": 4,
   "outputs": [],
   "source": [
    "# Split the data into training and test sets\n",
    "scaler = StandardScaler()\n",
    "scaler.fit(employee_satisfaction_data.drop('Dept', axis=1))\n",
    "scaled_features = pd.DataFrame(scaler.transform(employee_satisfaction_data.drop('Dept', axis=1)),columns=employee_satisfaction_data.columns[:-1])\n",
    "scaled_features.head()\n",
    "\n",
    "X_train, X_test, Y_train, Y_test = train_test_split(scaled_features, employee_satisfaction_data['Dept'], random_state=0)"
   ],
   "metadata": {
    "collapsed": false
   }
  },
  {
   "cell_type": "code",
   "execution_count": 5,
   "outputs": [],
   "source": [
    "model = Sequential()\n",
    "model.add(Dense(20, input_dim=10, activation='relu'))\n",
    "model.add(Dense(10, input_dim=10, activation='relu'))\n",
    "model.add(Dense(1, activation='sigmoid'))\n",
    "model.compile(loss='binary_crossentropy', optimizer='adam', metrics=['accuracy'])"
   ],
   "metadata": {
    "collapsed": false
   }
  },
  {
   "cell_type": "code",
   "execution_count": 6,
   "outputs": [
    {
     "name": "stdout",
     "output_type": "stream",
     "text": [
      "Epoch 1/30\n",
      "12/12 [==============================] - 1s 1ms/step - loss: 0.5708 - accuracy: 0.7733\n",
      "Epoch 2/30\n",
      "12/12 [==============================] - 0s 1ms/step - loss: 0.5529 - accuracy: 0.7707\n",
      "Epoch 3/30\n",
      "12/12 [==============================] - 0s 1ms/step - loss: 0.5393 - accuracy: 0.7787\n",
      "Epoch 4/30\n",
      "12/12 [==============================] - 0s 1ms/step - loss: 0.5336 - accuracy: 0.7787\n",
      "Epoch 5/30\n",
      "12/12 [==============================] - 0s 1ms/step - loss: 0.5265 - accuracy: 0.7787\n",
      "Epoch 6/30\n",
      "12/12 [==============================] - 0s 1ms/step - loss: 0.5220 - accuracy: 0.7787\n",
      "Epoch 7/30\n",
      "12/12 [==============================] - 0s 1ms/step - loss: 0.5179 - accuracy: 0.7787\n",
      "Epoch 8/30\n",
      "12/12 [==============================] - 0s 1ms/step - loss: 0.5136 - accuracy: 0.7787\n",
      "Epoch 9/30\n",
      "12/12 [==============================] - 0s 1ms/step - loss: 0.5101 - accuracy: 0.7787\n",
      "Epoch 10/30\n",
      "12/12 [==============================] - 0s 1ms/step - loss: 0.5070 - accuracy: 0.7787\n",
      "Epoch 11/30\n",
      "12/12 [==============================] - 0s 1ms/step - loss: 0.5042 - accuracy: 0.7787\n",
      "Epoch 12/30\n",
      "12/12 [==============================] - 0s 1ms/step - loss: 0.5015 - accuracy: 0.7787\n",
      "Epoch 13/30\n",
      "12/12 [==============================] - 0s 1ms/step - loss: 0.4987 - accuracy: 0.7787\n",
      "Epoch 14/30\n",
      "12/12 [==============================] - 0s 1ms/step - loss: 0.4963 - accuracy: 0.7787\n",
      "Epoch 15/30\n",
      "12/12 [==============================] - 0s 1ms/step - loss: 0.4936 - accuracy: 0.7787\n",
      "Epoch 16/30\n",
      "12/12 [==============================] - 0s 1ms/step - loss: 0.4916 - accuracy: 0.7787\n",
      "Epoch 17/30\n",
      "12/12 [==============================] - 0s 1ms/step - loss: 0.4892 - accuracy: 0.7787\n",
      "Epoch 18/30\n",
      "12/12 [==============================] - 0s 1ms/step - loss: 0.4871 - accuracy: 0.7787\n",
      "Epoch 19/30\n",
      "12/12 [==============================] - 0s 1ms/step - loss: 0.4857 - accuracy: 0.7787\n",
      "Epoch 20/30\n",
      "12/12 [==============================] - 0s 1000us/step - loss: 0.4827 - accuracy: 0.7787\n",
      "Epoch 21/30\n",
      "12/12 [==============================] - 0s 1ms/step - loss: 0.4808 - accuracy: 0.7787\n",
      "Epoch 22/30\n",
      "12/12 [==============================] - 0s 1ms/step - loss: 0.4789 - accuracy: 0.7787\n",
      "Epoch 23/30\n",
      "12/12 [==============================] - 0s 1ms/step - loss: 0.4770 - accuracy: 0.7787\n",
      "Epoch 24/30\n",
      "12/12 [==============================] - 0s 1000us/step - loss: 0.4748 - accuracy: 0.7787\n",
      "Epoch 25/30\n",
      "12/12 [==============================] - 0s 1ms/step - loss: 0.4730 - accuracy: 0.7760\n",
      "Epoch 26/30\n",
      "12/12 [==============================] - 0s 1ms/step - loss: 0.4712 - accuracy: 0.7760\n",
      "Epoch 27/30\n",
      "12/12 [==============================] - 0s 1ms/step - loss: 0.4689 - accuracy: 0.7787\n",
      "Epoch 28/30\n",
      "12/12 [==============================] - 0s 2ms/step - loss: 0.4674 - accuracy: 0.7787\n",
      "Epoch 29/30\n",
      "12/12 [==============================] - 0s 2ms/step - loss: 0.4653 - accuracy: 0.7787\n",
      "Epoch 30/30\n",
      "12/12 [==============================] - 0s 1ms/step - loss: 0.4641 - accuracy: 0.7787\n"
     ]
    },
    {
     "data": {
      "text/plain": "<keras.callbacks.History at 0x2566ac1ce48>"
     },
     "execution_count": 6,
     "metadata": {},
     "output_type": "execute_result"
    }
   ],
   "source": [
    "model.fit(X_train, Y_train, epochs=30)"
   ],
   "metadata": {
    "collapsed": false
   }
  },
  {
   "cell_type": "code",
   "execution_count": 7,
   "outputs": [
    {
     "name": "stdout",
     "output_type": "stream",
     "text": [
      "4/4 [==============================] - 0s 1ms/step\n",
      "[[102   0]\n",
      " [ 23   0]] \n",
      "               precision    recall  f1-score   support\n",
      "\n",
      "           0       0.82      1.00      0.90       102\n",
      "           1       0.00      0.00      0.00        23\n",
      "\n",
      "    accuracy                           0.82       125\n",
      "   macro avg       0.41      0.50      0.45       125\n",
      "weighted avg       0.67      0.82      0.73       125\n",
      "\n"
     ]
    },
    {
     "name": "stderr",
     "output_type": "stream",
     "text": [
      "c:\\users\\vladislavzelenin\\appdata\\local\\programs\\python\\python37\\lib\\site-packages\\sklearn\\metrics\\_classification.py:1318: UndefinedMetricWarning: Precision and F-score are ill-defined and being set to 0.0 in labels with no predicted samples. Use `zero_division` parameter to control this behavior.\n",
      "  _warn_prf(average, modifier, msg_start, len(result))\n",
      "c:\\users\\vladislavzelenin\\appdata\\local\\programs\\python\\python37\\lib\\site-packages\\sklearn\\metrics\\_classification.py:1318: UndefinedMetricWarning: Precision and F-score are ill-defined and being set to 0.0 in labels with no predicted samples. Use `zero_division` parameter to control this behavior.\n",
      "  _warn_prf(average, modifier, msg_start, len(result))\n",
      "c:\\users\\vladislavzelenin\\appdata\\local\\programs\\python\\python37\\lib\\site-packages\\sklearn\\metrics\\_classification.py:1318: UndefinedMetricWarning: Precision and F-score are ill-defined and being set to 0.0 in labels with no predicted samples. Use `zero_division` parameter to control this behavior.\n",
      "  _warn_prf(average, modifier, msg_start, len(result))\n"
     ]
    }
   ],
   "source": [
    "from sklearn.metrics import classification_report, confusion_matrix\n",
    "\n",
    "Y_pred = model.predict(X_test) > 0.5\n",
    "print(confusion_matrix(Y_test, Y_pred), '\\n', classification_report(Y_test, Y_pred))"
   ],
   "metadata": {
    "collapsed": false
   }
  },
  {
   "cell_type": "code",
   "execution_count": 8,
   "outputs": [
    {
     "name": "stdout",
     "output_type": "stream",
     "text": [
      "Found 613 images belonging to 4 classes.\n"
     ]
    },
    {
     "data": {
      "text/plain": "['adenocarcinoma_left.lower.lobe_T2_N0_M0_Ib',\n 'large.cell.carcinoma_left.hilum_T2_N2_M0_IIIa',\n 'normal',\n 'squamous.cell.carcinoma_left.hilum_T1_N2_M0_IIIa']"
     },
     "execution_count": 8,
     "metadata": {},
     "output_type": "execute_result"
    }
   ],
   "source": [
    "#2\n",
    "import matplotlib.pyplot as plt\n",
    "import numpy as np\n",
    "\n",
    "generator = ImageDataGenerator()\n",
    "batches   = generator.flow_from_directory('train')\n",
    "indices = batches.class_indices\n",
    "labels  = list(indices.keys())\n",
    "labels"
   ],
   "metadata": {
    "collapsed": false
   }
  },
  {
   "cell_type": "code",
   "execution_count": 9,
   "outputs": [],
   "source": [
    "valid_datagen = ImageDataGenerator(rescale=1 / 255)\n",
    "test_datagen = ImageDataGenerator(rescale=1 / 255)\n",
    "train_datagen = ImageDataGenerator(rescale=1 / 255,\n",
    "                                   horizontal_flip=True,\n",
    "                                   vertical_flip=True,\n",
    "                                   zoom_range=0.2,\n",
    "                                   shear_range=0.2,\n",
    "                                   rotation_range=30,\n",
    "                                   fill_mode='nearest')"
   ],
   "metadata": {
    "collapsed": false
   }
  },
  {
   "cell_type": "code",
   "execution_count": 10,
   "outputs": [
    {
     "name": "stdout",
     "output_type": "stream",
     "text": [
      "Found 315 images belonging to 4 classes.\n",
      "Found 72 images belonging to 4 classes.\n",
      "Found 613 images belonging to 4 classes.\n"
     ]
    }
   ],
   "source": [
    "test_gemerator = test_datagen.flow_from_directory('test',\n",
    "                                                  target_size=(224, 224),\n",
    "                                                  color_mode='rgb',\n",
    "                                                  class_mode='sparse',\n",
    "                                                  batch_size=256)\n",
    "val_generator = valid_datagen.flow_from_directory('valid',\n",
    "                                                  target_size=(224, 224),\n",
    "                                                  color_mode='rgb',\n",
    "                                                  class_mode='sparse',\n",
    "                                                  batch_size=256)\n",
    "train_generator = train_datagen.flow_from_directory('train',\n",
    "                                                    target_size=(224, 224),\n",
    "                                                    color_mode='rgb',\n",
    "                                                    class_mode='sparse',\n",
    "                                                    batch_size=256)"
   ],
   "metadata": {
    "collapsed": false
   }
  },
  {
   "cell_type": "code",
   "execution_count": 11,
   "outputs": [
    {
     "name": "stdout",
     "output_type": "stream",
     "text": [
      "Model: \"sequential_1\"\n",
      "_________________________________________________________________\n",
      " Layer (type)                Output Shape              Param #   \n",
      "=================================================================\n",
      " resnet101v2 (Functional)    (None, 7, 7, 2048)        42626560  \n",
      "                                                                 \n",
      " dropout (Dropout)           (None, 7, 7, 2048)        0         \n",
      "                                                                 \n",
      " flatten (Flatten)           (None, 100352)            0         \n",
      "                                                                 \n",
      " batch_normalization (BatchN  (None, 100352)           401408    \n",
      " ormalization)                                                   \n",
      "                                                                 \n",
      " dense_3 (Dense)             (None, 2048)              205522944 \n",
      "                                                                 \n",
      " batch_normalization_1 (Batc  (None, 2048)             8192      \n",
      " hNormalization)                                                 \n",
      "                                                                 \n",
      " activation (Activation)     (None, 2048)              0         \n",
      "                                                                 \n",
      " dropout_1 (Dropout)         (None, 2048)              0         \n",
      "                                                                 \n",
      " dense_4 (Dense)             (None, 1024)              2098176   \n",
      "                                                                 \n",
      " batch_normalization_2 (Batc  (None, 1024)             4096      \n",
      " hNormalization)                                                 \n",
      "                                                                 \n",
      " activation_1 (Activation)   (None, 1024)              0         \n",
      "                                                                 \n",
      " dropout_2 (Dropout)         (None, 1024)              0         \n",
      "                                                                 \n",
      " dense_5 (Dense)             (None, 250)               256250    \n",
      "                                                                 \n",
      "=================================================================\n",
      "Total params: 250,917,626\n",
      "Trainable params: 208,084,218\n",
      "Non-trainable params: 42,833,408\n",
      "_________________________________________________________________\n",
      "None\n"
     ]
    }
   ],
   "source": [
    "# Model Initialization\n",
    "from keras.models import Sequential\n",
    "from keras.applications import ResNet101V2\n",
    "from keras.layers import Dense, Dropout, Flatten, BatchNormalization, Activation\n",
    "\n",
    "convlayer = ResNet101V2(input_shape=(224, 224, 3),\n",
    "                        weights='imagenet',\n",
    "                        include_top=False)\n",
    "for layer in convlayer.layers:\n",
    "    layer.trainable = False\n",
    "model = Sequential()\n",
    "model.add(convlayer)\n",
    "model.add(Dropout(0.5))\n",
    "model.add(Flatten())\n",
    "model.add(BatchNormalization())\n",
    "model.add(Dense(2048, kernel_initializer='he_uniform'))\n",
    "model.add(BatchNormalization())\n",
    "model.add(Activation('relu'))\n",
    "model.add(Dropout(0.5))\n",
    "model.add(Dense(1024, kernel_initializer='he_uniform'))\n",
    "model.add(BatchNormalization())\n",
    "model.add(Activation('relu'))\n",
    "model.add(Dropout(0.5))\n",
    "model.add(Dense(250, activation='softmax'))\n",
    "\n",
    "print(model.summary())"
   ],
   "metadata": {
    "collapsed": false
   }
  },
  {
   "cell_type": "code",
   "execution_count": 12,
   "outputs": [
    {
     "name": "stderr",
     "output_type": "stream",
     "text": [
      "WARNING:absl:`lr` is deprecated, please use `learning_rate` instead, or use the legacy optimizer, e.g.,tf.keras.optimizers.legacy.Adam.\n"
     ]
    },
    {
     "name": "stdout",
     "output_type": "stream",
     "text": [
      "Epoch 1/5\n",
      "3/3 [==============================] - ETA: 0s - loss: 4.3514 - accuracy: 0.2529 \n",
      "Epoch 1: val_accuracy improved from -inf to 0.19444, saving model to .\\best_weights.hdf5\n",
      "3/3 [==============================] - 67s 25s/step - loss: 4.3514 - accuracy: 0.2529 - val_loss: 24.8874 - val_accuracy: 0.1944\n",
      "Epoch 2/5\n",
      "3/3 [==============================] - ETA: 0s - loss: 1.6316 - accuracy: 0.6313 \n",
      "Epoch 2: val_accuracy improved from 0.19444 to 0.22222, saving model to .\\best_weights.hdf5\n",
      "3/3 [==============================] - 56s 23s/step - loss: 1.6316 - accuracy: 0.6313 - val_loss: 55.0861 - val_accuracy: 0.2222\n",
      "Epoch 3/5\n",
      "3/3 [==============================] - ETA: 0s - loss: 1.0717 - accuracy: 0.6949\n",
      "Epoch 3: val_accuracy did not improve from 0.22222\n",
      "3/3 [==============================] - 53s 16s/step - loss: 1.0717 - accuracy: 0.6949 - val_loss: 59.2868 - val_accuracy: 0.2083\n",
      "Epoch 4/5\n",
      "3/3 [==============================] - ETA: 0s - loss: 0.7447 - accuracy: 0.7488\n",
      "Epoch 4: val_accuracy improved from 0.22222 to 0.23611, saving model to .\\best_weights.hdf5\n",
      "3/3 [==============================] - 60s 18s/step - loss: 0.7447 - accuracy: 0.7488 - val_loss: 52.6475 - val_accuracy: 0.2361\n",
      "Epoch 5/5\n",
      "3/3 [==============================] - ETA: 0s - loss: 0.6369 - accuracy: 0.7455\n",
      "Epoch 5: val_accuracy did not improve from 0.23611\n",
      "3/3 [==============================] - 57s 17s/step - loss: 0.6369 - accuracy: 0.7455 - val_loss: 42.4908 - val_accuracy: 0.2361\n"
     ]
    }
   ],
   "source": [
    "import tensorflow\n",
    "from keras.callbacks import EarlyStopping, ModelCheckpoint\n",
    "\n",
    "opt = tensorflow.keras.optimizers.Adam(lr=0.001)\n",
    "\n",
    "model.compile(loss='sparse_categorical_crossentropy',\n",
    "              metrics=['accuracy'],\n",
    "              optimizer=opt)\n",
    "\n",
    "filepath = './best_weights.hdf5'\n",
    "\n",
    "earlystopping = EarlyStopping(monitor='val_accuracy',\n",
    "                              mode='max',\n",
    "                              patience=10,\n",
    "                              verbose=1)\n",
    "\n",
    "checkpoint = ModelCheckpoint(filepath,\n",
    "                             monitor='val_accuracy',\n",
    "                             mode='max',\n",
    "                             save_best_only=True,\n",
    "                             verbose=1)\n",
    "\n",
    "callback_list = [earlystopping, checkpoint]\n",
    "model_history = model.fit(train_generator,\n",
    "                          validation_data=val_generator,\n",
    "                          epochs=5,\n",
    "                          callbacks=callback_list,\n",
    "                          verbose=1)"
   ],
   "metadata": {
    "collapsed": false
   }
  },
  {
   "cell_type": "code",
   "execution_count": 13,
   "outputs": [
    {
     "data": {
      "text/plain": "<matplotlib.legend.Legend at 0x256751f3828>"
     },
     "execution_count": 13,
     "metadata": {},
     "output_type": "execute_result"
    },
    {
     "data": {
      "text/plain": "<Figure size 640x480 with 1 Axes>",
      "image/png": "[encoded data removed]"
     },
     "metadata": {},
     "output_type": "display_data"
    }
   ],
   "source": [
    "plt.plot(model_history.history['accuracy'], c='red')\n",
    "plt.plot(model_history.history['val_accuracy'], c='green')\n",
    "plt.title('Accuracy')\n",
    "plt.ylabel('Accuracy')\n",
    "plt.xlabel('Epoch')\n",
    "plt.legend(['train', 'valid'], loc='lower right')"
   ],
   "metadata": {
    "collapsed": false
   }
  },
  {
   "cell_type": "code",
   "execution_count": 14,
   "outputs": [],
   "source": [
    "sms_spam_collection = pd.read_csv('spam.csv', sep='\\t', header=None, names=['Label', 'SMS'], encoding='windows-1252')\n",
    "\n",
    "sms_spam_collection['SMS'] = sms_spam_collection['SMS'].str.replace('\\W', ' ')\n",
    "# To lower case\n",
    "sms_spam_collection['SMS'] = sms_spam_collection['SMS'].str.lower()\n",
    "\n",
    "sms_spam_collection['SMS'] = sms_spam_collection['SMS'].str.split()"
   ],
   "metadata": {
    "collapsed": false
   }
  },
  {
   "cell_type": "code",
   "execution_count": 27,
   "outputs": [],
   "source": [
    "# Split the dataset into train and test sets\n",
    "# Convert the labels to numerical values\n",
    "x = sms_spam_collection['SMS'].values\n",
    "y = sms_spam_collection['Label'].values\n",
    "x_train, x_test, y_train, y_test = train_test_split(x, y, test_size=0.2)"
   ],
   "metadata": {
    "collapsed": false
   }
  },
  {
   "cell_type": "code",
   "execution_count": 29,
   "outputs": [],
   "source": [
    "from keras.utils import pad_sequences\n",
    "from keras.preprocessing.text import Tokenizer\n",
    "\n",
    "dictionary_length = 1000\n",
    "input_length = 100\n",
    "\n",
    "tokenizer = Tokenizer(num_words=dictionary_length)\n",
    "tokenizer.fit_on_texts(sms_spam_collection.SMS.values)\n",
    "post_seq = tokenizer.texts_to_sequences(sms_spam_collection.SMS.values)\n",
    "post_seq_padded = pad_sequences(post_seq, maxlen=input_length)"
   ],
   "metadata": {
    "collapsed": false
   }
  },
  {
   "cell_type": "code",
   "execution_count": 31,
   "outputs": [],
   "source": [
    "from sklearn.utils import shuffle\n",
    "\n",
    "x_original = post_seq_padded\n",
    "x_original = np.array(x_original)\n",
    "y_original = sms_spam_collection['SMS'].values\n",
    "y_original = 1 * (y_original == 'spam')\n",
    "y_original = np.array(y_original)\n",
    "x, y = shuffle(x_original, y_original, random_state=23)"
   ],
   "metadata": {
    "collapsed": false
   }
  },
  {
   "cell_type": "code",
   "execution_count": 32,
   "outputs": [],
   "source": [
    "x_train, x_val, y_train, y_val = train_test_split(x, y, test_size=0.3, random_state=25)\n",
    "x_train, x_test, y_train, y_test = train_test_split(x_train, y_train, test_size=0.2, random_state=25)"
   ],
   "metadata": {
    "collapsed": false
   }
  },
  {
   "cell_type": "code",
   "execution_count": 33,
   "outputs": [
    {
     "name": "stdout",
     "output_type": "stream",
     "text": [
      "Model: \"sequential_2\"\n",
      "_________________________________________________________________\n",
      " Layer (type)                Output Shape              Param #   \n",
      "=================================================================\n",
      " embedding (Embedding)       (None, 100, 2)            2000      \n",
      "                                                                 \n",
      " dense_6 (Dense)             (None, 100, 32)           96        \n",
      "                                                                 \n",
      " dense_7 (Dense)             (None, 100, 32)           1056      \n",
      "                                                                 \n",
      " bidirectional (Bidirectiona  (None, 100, 32)          1568      \n",
      " l)                                                              \n",
      "                                                                 \n",
      " bidirectional_1 (Bidirectio  (None, 100, 32)          1568      \n",
      " nal)                                                            \n",
      "                                                                 \n",
      " bidirectional_2 (Bidirectio  (None, 32)               1568      \n",
      " nal)                                                            \n",
      "                                                                 \n",
      " dense_8 (Dense)             (None, 1)                 33        \n",
      "                                                                 \n",
      "=================================================================\n",
      "Total params: 7,889\n",
      "Trainable params: 7,889\n",
      "Non-trainable params: 0\n",
      "_________________________________________________________________\n"
     ]
    }
   ],
   "source": [
    "from keras.layers import Embedding, Dense, Bidirectional, SimpleRNN\n",
    "\n",
    "model = Sequential()\n",
    "model.add(Embedding(dictionary_length, 2, input_length=input_length))\n",
    "model.add(Dense(32, activation=\"relu\"))\n",
    "model.add(Dense(32, activation=\"relu\"))\n",
    "model.add(Bidirectional(SimpleRNN(16, return_sequences=True)))\n",
    "model.add(Bidirectional(SimpleRNN(16, return_sequences=True)))\n",
    "model.add(Bidirectional(SimpleRNN(16, return_sequences=False)))\n",
    "model.add(Dense(1, activation='sigmoid'))\n",
    "\n",
    "model.summary()"
   ],
   "metadata": {
    "collapsed": false
   }
  },
  {
   "cell_type": "code",
   "execution_count": 34,
   "outputs": [],
   "source": [
    "model.compile(loss='binary_crossentropy',\n",
    "              optimizer='adam',\n",
    "              metrics=['accuracy'])"
   ],
   "metadata": {
    "collapsed": false
   }
  },
  {
   "cell_type": "code",
   "execution_count": 35,
   "outputs": [
    {
     "name": "stdout",
     "output_type": "stream",
     "text": [
      "Epoch 1/5\n",
      "13/13 [==============================] - 7s 148ms/step - loss: 0.3204 - accuracy: 0.9628 - val_loss: 0.1026 - val_accuracy: 1.0000\n",
      "Epoch 2/5\n",
      "13/13 [==============================] - 1s 84ms/step - loss: 0.0550 - accuracy: 1.0000 - val_loss: 0.0250 - val_accuracy: 1.0000\n",
      "Epoch 3/5\n",
      "13/13 [==============================] - 1s 83ms/step - loss: 0.0180 - accuracy: 1.0000 - val_loss: 0.0118 - val_accuracy: 1.0000\n",
      "Epoch 4/5\n",
      "13/13 [==============================] - 1s 83ms/step - loss: 0.0096 - accuracy: 1.0000 - val_loss: 0.0081 - val_accuracy: 1.0000\n",
      "Epoch 5/5\n",
      "13/13 [==============================] - 1s 86ms/step - loss: 0.0073 - accuracy: 1.0000 - val_loss: 0.0064 - val_accuracy: 1.0000\n"
     ]
    }
   ],
   "source": [
    "history = model.fit(x=x_train, y=y_train, batch_size=256, verbose=1, epochs=5, validation_data=(x_val, y_val))"
   ],
   "metadata": {
    "collapsed": false
   }
  },
  {
   "cell_type": "code",
   "execution_count": 36,
   "outputs": [],
   "source": [
    "history_dict = history.history\n",
    "\n",
    "acc = history_dict['accuracy']\n",
    "val_acc = history_dict['val_accuracy']\n",
    "loss = history_dict['loss']\n",
    "val_loss = history_dict['val_loss']\n",
    "\n",
    "epochs = range(1, len(acc) + 1)"
   ],
   "metadata": {
    "collapsed": false
   }
  },
  {
   "cell_type": "code",
   "execution_count": 37,
   "outputs": [
    {
     "data": {
      "text/plain": "<Figure size 800x500 with 1 Axes>",
      "image/png": "[encoded data removed]"
     },
     "metadata": {},
     "output_type": "display_data"
    }
   ],
   "source": [
    "plt.figure(figsize=(8, 5))\n",
    "plt.plot(epochs, loss, 'bo', label='Training loss')\n",
    "plt.plot(epochs, val_loss, 'b', label='Validation loss')\n",
    "plt.title('Training and validation loss')\n",
    "plt.xlabel('Epochs')\n",
    "plt.ylabel('Loss')\n",
    "plt.legend()\n",
    "plt.show()"
   ],
   "metadata": {
    "collapsed": false
   }
  },
  {
   "cell_type": "code",
   "execution_count": 39,
   "outputs": [
    {
     "data": {
      "text/plain": "<Figure size 1000x500 with 1 Axes>",
      "image/png": "[encoded data removed]"
     },
     "metadata": {},
     "output_type": "display_data"
    }
   ],
   "source": [
    "plt.figure(figsize=(8, 5))\n",
    "plt.plot(epochs, acc, 'bo', label='Training acc')\n",
    "plt.plot(epochs, val_acc, 'b', label='Validation acc')\n",
    "plt.title('Training and validation accuracy')\n",
    "plt.xlabel('Epochs')\n",
    "plt.ylabel('Accuracy')\n",
    "plt.legend(loc='lower right')\n",
    "plt.ylim((0.5, 1))\n",
    "plt.show()"
   ],
   "metadata": {
    "collapsed": false
   }
  },
  {
   "cell_type": "code",
   "execution_count": null,
   "outputs": [],
   "source": [],
   "metadata": {
    "collapsed": false
   }
  }
 ],
 "metadata": {
  "kernelspec": {
   "display_name": "Python 3",
   "language": "python",
   "name": "python3"
  },
  "language_info": {
   "codemirror_mode": {
    "name": "ipython",
    "version": 2
   },
   "file_extension": ".py",
   "mimetype": "text/x-python",
   "name": "python",
   "nbconvert_exporter": "python",
   "pygments_lexer": "ipython2",
   "version": "2.7.6"
  }
 },
 "nbformat": 4,
 "nbformat_minor": 0
}
